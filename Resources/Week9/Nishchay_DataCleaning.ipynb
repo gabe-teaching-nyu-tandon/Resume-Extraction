{
 "cells": [
  {
   "cell_type": "code",
   "execution_count": 103,
   "id": "59c4740b",
   "metadata": {},
   "outputs": [],
   "source": [
    "import pandas as pd\n",
    "import re\n",
    "import nltk\n",
    "import spacy\n",
    "from num2words import num2words\n",
    "from nltk import word_tokenize\n",
    "from nltk.corpus import stopwords\n",
    "from sklearn.feature_extraction.text import TfidfVectorizer\n",
    "from nltk import pos_tag\n",
    "from spacy.pipeline import EntityRecognizer"
   ]
  },
  {
   "cell_type": "code",
   "execution_count": 104,
   "id": "61e595af",
   "metadata": {},
   "outputs": [
    {
     "name": "stdout",
     "output_type": "stream",
     "text": [
      "Shape of the dataset: (200, 2)\n"
     ]
    },
    {
     "data": {
      "text/html": [
       "<div>\n",
       "<style scoped>\n",
       "    .dataframe tbody tr th:only-of-type {\n",
       "        vertical-align: middle;\n",
       "    }\n",
       "\n",
       "    .dataframe tbody tr th {\n",
       "        vertical-align: top;\n",
       "    }\n",
       "\n",
       "    .dataframe thead th {\n",
       "        text-align: right;\n",
       "    }\n",
       "</style>\n",
       "<table border=\"1\" class=\"dataframe\">\n",
       "  <thead>\n",
       "    <tr style=\"text-align: right;\">\n",
       "      <th></th>\n",
       "      <th>content</th>\n",
       "      <th>annotation</th>\n",
       "    </tr>\n",
       "  </thead>\n",
       "  <tbody>\n",
       "    <tr>\n",
       "      <th>0</th>\n",
       "      <td>Govardhana K\\nSenior Software Engineer\\n\\nBeng...</td>\n",
       "      <td>[{'label': ['Companies worked at'], 'points': ...</td>\n",
       "    </tr>\n",
       "    <tr>\n",
       "      <th>1</th>\n",
       "      <td>Harini Komaravelli\\nTest Analyst at Oracle, Hy...</td>\n",
       "      <td>[{'label': ['Companies worked at'], 'points': ...</td>\n",
       "    </tr>\n",
       "    <tr>\n",
       "      <th>2</th>\n",
       "      <td>Hartej Kathuria\\nData Analyst Intern - Oracle ...</td>\n",
       "      <td>[{'label': ['Skills'], 'points': [{'start': 22...</td>\n",
       "    </tr>\n",
       "    <tr>\n",
       "      <th>3</th>\n",
       "      <td>Ijas Nizamuddin\\nAssociate Consultant - State ...</td>\n",
       "      <td>[{'label': ['Skills'], 'points': [{'start': 46...</td>\n",
       "    </tr>\n",
       "    <tr>\n",
       "      <th>4</th>\n",
       "      <td>Imgeeyaul Ansari\\njava developer\\n\\nPune, Maha...</td>\n",
       "      <td>[{'label': ['Skills'], 'points': [{'start': 18...</td>\n",
       "    </tr>\n",
       "  </tbody>\n",
       "</table>\n",
       "</div>"
      ],
      "text/plain": [
       "                                             content  \\\n",
       "0  Govardhana K\\nSenior Software Engineer\\n\\nBeng...   \n",
       "1  Harini Komaravelli\\nTest Analyst at Oracle, Hy...   \n",
       "2  Hartej Kathuria\\nData Analyst Intern - Oracle ...   \n",
       "3  Ijas Nizamuddin\\nAssociate Consultant - State ...   \n",
       "4  Imgeeyaul Ansari\\njava developer\\n\\nPune, Maha...   \n",
       "\n",
       "                                          annotation  \n",
       "0  [{'label': ['Companies worked at'], 'points': ...  \n",
       "1  [{'label': ['Companies worked at'], 'points': ...  \n",
       "2  [{'label': ['Skills'], 'points': [{'start': 22...  \n",
       "3  [{'label': ['Skills'], 'points': [{'start': 46...  \n",
       "4  [{'label': ['Skills'], 'points': [{'start': 18...  "
      ]
     },
     "execution_count": 104,
     "metadata": {},
     "output_type": "execute_result"
    }
   ],
   "source": [
    "# Read the JSON file into a DataFrame\n",
    "df = pd.read_json('Resume.json', lines=True)\n",
    "\n",
    "# Save the DataFrame to CSV\n",
    "df.to_csv('dataframe.csv', index=None)\n",
    "\n",
    "# Print the shape of the dataset\n",
    "print(f\"Shape of the dataset: {df.shape}\")\n",
    "\n",
    "# Display the first few rows of the DataFrame\n",
    "df.head()"
   ]
  },
  {
   "cell_type": "code",
   "execution_count": 105,
   "id": "1d327691",
   "metadata": {},
   "outputs": [
    {
     "data": {
      "text/plain": [
       "'Govardhana K\\nSenior Software Engineer\\n\\nBengaluru, Karnataka, Karnataka - Email me on Indeed: indeed.com/r/Govardhana-K/\\nb2de315d95905b68\\n\\nTotal IT experience 5 Years 6 Months\\nCloud Lending Solutions INC 4 Month • Salesforce Developer\\nOracle 5 Years 2 Month • Core Java Developer\\nLanguages Core Java, Go Lang\\nOracle PL-SQL programming,\\nSales Force Developer with APEX.\\n\\nDesignations & Promotions\\n\\nWilling to relocate: Anywhere\\n\\nWORK EXPERIENCE\\n\\nSenior Software Engineer\\n\\nCloud Lending Solutions -  Bangalore, Karnataka -\\n\\nJanuary 2018 to Present\\n\\nPresent\\n\\nSenior Consultant\\n\\nOracle -  Bangalore, Karnataka -\\n\\nNovember 2016 to December 2017\\n\\nStaff Consultant\\n\\nOracle -  Bangalore, Karnataka -\\n\\nJanuary 2014 to October 2016\\n\\nAssociate Consultant\\n\\nOracle -  Bangalore, Karnataka -\\n\\nNovember 2012 to December 2013\\n\\nEDUCATION\\n\\nB.E in Computer Science Engineering\\n\\nAdithya Institute of Technology -  Tamil Nadu\\n\\nSeptember 2008 to June 2012\\n\\nhttps://www.indeed.com/r/Govardhana-K/b2de315d95905b68?isid=rex-download&ikw=download-top&co=IN\\nhttps://www.indeed.com/r/Govardhana-K/b2de315d95905b68?isid=rex-download&ikw=download-top&co=IN\\n\\n\\nSKILLS\\n\\nAPEX. (Less than 1 year), Data Structures (3 years), FLEXCUBE (5 years), Oracle (5 years),\\nAlgorithms (3 years)\\n\\nLINKS\\n\\nhttps://www.linkedin.com/in/govardhana-k-61024944/\\n\\nADDITIONAL INFORMATION\\n\\nTechnical Proficiency:\\n\\nLanguages: Core Java, Go Lang, Data Structures & Algorithms, Oracle\\nPL-SQL programming, Sales Force with APEX.\\nTools: RADTool, Jdeveloper, NetBeans, Eclipse, SQL developer,\\nPL/SQL Developer, WinSCP, Putty\\nWeb Technologies: JavaScript, XML, HTML, Webservice\\n\\nOperating Systems: Linux, Windows\\nVersion control system SVN & Git-Hub\\nDatabases: Oracle\\nMiddleware: Web logic, OC4J\\nProduct FLEXCUBE: Oracle FLEXCUBE Versions 10.x, 11.x and 12.x\\n\\nhttps://www.linkedin.com/in/govardhana-k-61024944/'"
      ]
     },
     "execution_count": 105,
     "metadata": {},
     "output_type": "execute_result"
    }
   ],
   "source": [
    "df['content'][0]"
   ]
  },
  {
   "cell_type": "code",
   "execution_count": 106,
   "id": "a69332ed",
   "metadata": {},
   "outputs": [
    {
     "data": {
      "text/plain": [
       "[{'label': ['Companies worked at'],\n",
       "  'points': [{'start': 1749, 'end': 1754, 'text': 'Oracle'}]},\n",
       " {'label': ['Companies worked at'],\n",
       "  'points': [{'start': 1696, 'end': 1701, 'text': 'Oracle'}]},\n",
       " {'label': ['Companies worked at'],\n",
       "  'points': [{'start': 1417, 'end': 1422, 'text': 'Oracle'}]},\n",
       " {'label': ['Skills'],\n",
       "  'points': [{'start': 1356,\n",
       "    'end': 1792,\n",
       "    'text': 'Languages: Core Java, Go Lang, Data Structures & Algorithms, Oracle\\nPL-SQL programming, Sales Force with APEX.\\nTools: RADTool, Jdeveloper, NetBeans, Eclipse, SQL developer,\\nPL/SQL Developer, WinSCP, Putty\\nWeb Technologies: JavaScript, XML, HTML, Webservice\\n\\nOperating Systems: Linux, Windows\\nVersion control system SVN & Git-Hub\\nDatabases: Oracle\\nMiddleware: Web logic, OC4J\\nProduct FLEXCUBE: Oracle FLEXCUBE Versions 10.x, 11.x and 12.x'}]},\n",
       " {'label': ['Companies worked at'],\n",
       "  'points': [{'start': 1209, 'end': 1214, 'text': 'Oracle'}]},\n",
       " {'label': ['Skills'],\n",
       "  'points': [{'start': 1136,\n",
       "    'end': 1247,\n",
       "    'text': 'APEX. (Less than 1 year), Data Structures (3 years), FLEXCUBE (5 years), Oracle (5 years),\\nAlgorithms (3 years)\\n'}]},\n",
       " {'label': ['Graduation Year'],\n",
       "  'points': [{'start': 928, 'end': 931, 'text': '2012'}]},\n",
       " {'label': ['College Name'],\n",
       "  'points': [{'start': 858,\n",
       "    'end': 888,\n",
       "    'text': 'Adithya Institute of Technology'}]},\n",
       " {'label': ['Degree'],\n",
       "  'points': [{'start': 821,\n",
       "    'end': 855,\n",
       "    'text': 'B.E in Computer Science Engineering'}]},\n",
       " {'label': ['Graduation Year'],\n",
       "  'points': [{'start': 787, 'end': 790, 'text': '2012'}]},\n",
       " {'label': ['Companies worked at'],\n",
       "  'points': [{'start': 744, 'end': 749, 'text': 'Oracle'}]},\n",
       " {'label': ['Designation'],\n",
       "  'points': [{'start': 722, 'end': 741, 'text': 'Associate Consultant'}]},\n",
       " {'label': ['Companies worked at'],\n",
       "  'points': [{'start': 658, 'end': 663, 'text': 'Oracle'}]},\n",
       " {'label': ['Designation'],\n",
       "  'points': [{'start': 640, 'end': 655, 'text': 'Staff Consultant'}]},\n",
       " {'label': ['Companies worked at'],\n",
       "  'points': [{'start': 574, 'end': 579, 'text': 'Oracle'}]},\n",
       " {'label': ['Designation'],\n",
       "  'points': [{'start': 555, 'end': 572, 'text': 'Senior Consultant\\n'}]},\n",
       " {'label': ['Companies worked at'],\n",
       "  'points': [{'start': 470, 'end': 492, 'text': 'Cloud Lending Solutions'}]},\n",
       " {'label': ['Designation'],\n",
       "  'points': [{'start': 444,\n",
       "    'end': 468,\n",
       "    'text': 'Senior Software Engineer\\n'}]},\n",
       " {'label': ['Companies worked at'],\n",
       "  'points': [{'start': 308, 'end': 313, 'text': 'Oracle'}]},\n",
       " {'label': ['Companies worked at'],\n",
       "  'points': [{'start': 234, 'end': 239, 'text': 'Oracle'}]},\n",
       " {'label': ['Companies worked at'],\n",
       "  'points': [{'start': 175, 'end': 197, 'text': 'Cloud Lending Solutions'}]},\n",
       " {'label': ['Email Address'],\n",
       "  'points': [{'start': 93,\n",
       "    'end': 136,\n",
       "    'text': 'indeed.com/r/Govardhana-K/\\nb2de315d95905b68\\n'}]},\n",
       " {'label': ['Location'],\n",
       "  'points': [{'start': 39, 'end': 47, 'text': 'Bengaluru'}]},\n",
       " {'label': ['Designation'],\n",
       "  'points': [{'start': 13, 'end': 37, 'text': 'Senior Software Engineer\\n'}]},\n",
       " {'label': ['Name'],\n",
       "  'points': [{'start': 0, 'end': 11, 'text': 'Govardhana K'}]}]"
      ]
     },
     "execution_count": 106,
     "metadata": {},
     "output_type": "execute_result"
    }
   ],
   "source": [
    "df['annotation'][0]"
   ]
  },
  {
   "cell_type": "markdown",
   "id": "2f6e6e81",
   "metadata": {},
   "source": [
    "## Data Cleaning"
   ]
  },
  {
   "cell_type": "markdown",
   "id": "f6a459b3",
   "metadata": {},
   "source": [
    "### Text Cleaning"
   ]
  },
  {
   "cell_type": "code",
   "execution_count": 107,
   "id": "0012d5af",
   "metadata": {},
   "outputs": [],
   "source": [
    "def clean_text(resume):\n",
    "    # Convert the text to lowercase\n",
    "    resume = resume.lower()\n",
    "    \n",
    "    # Remove newlines\n",
    "    resume = re.sub(\"\\n\", ' ', resume)\n",
    "    \n",
    "    # Remove special characters\n",
    "    resume = re.sub(r'[,•()➢❑]', ' ', resume)\n",
    "    \n",
    "    # Remove extra whitespaces, dashes, and dots\n",
    "    resume = re.sub(r'\\s\\s+|\\s-\\s|\\.\\s', ' ', resume)\n",
    "    \n",
    "    # Tokenize the text into words\n",
    "    tokenized_words = resume.split(\" \")\n",
    "    \n",
    "    length = len(tokenized_words)\n",
    "    \n",
    "    # Convert digits to words\n",
    "    for i in range(length):\n",
    "        if tokenized_words[i].isdigit():\n",
    "            tokenized_words[i] = num2words(tokenized_words[i])\n",
    "        \n",
    "    # Remove stopwords\n",
    "    sw = set(stopwords.words('english'))\n",
    "    tokens_without_sw = []\n",
    "    for w in tokenized_words:\n",
    "        if w not in sw:\n",
    "            tokens_without_sw.append(w)\n",
    "    \n",
    "    # Join the tokens back into a string\n",
    "    final_resume = \" \".join(tokens_without_sw)\n",
    "    \n",
    "    return final_resume\n"
   ]
  },
  {
   "cell_type": "markdown",
   "id": "92baae6b",
   "metadata": {},
   "source": [
    "### Word Tagging"
   ]
  },
  {
   "cell_type": "code",
   "execution_count": 108,
   "id": "7ac93aac",
   "metadata": {},
   "outputs": [],
   "source": [
    "def tag_words(text):\n",
    "    # Load the English language model in spaCy\n",
    "    nlp = spacy.load(\"en_core_web_sm\")\n",
    "    \n",
    "    # Process the text with the language model\n",
    "    words = nlp(text)\n",
    "    \n",
    "    tagged = []\n",
    "    \n",
    "    # Iterate over each word in the processed text\n",
    "    for word in words:\n",
    "        # Print the word and its part-of-speech tag\n",
    "        print(word, word.pos_)\n",
    "        \n",
    "        # Append the word and its part-of-speech tag to the tagged list\n",
    "        tagged.append((word.text, word.pos_))\n",
    "        \n",
    "    return tagged"
   ]
  },
  {
   "cell_type": "markdown",
   "id": "c93d6445",
   "metadata": {},
   "source": [
    "### Clean content column"
   ]
  },
  {
   "cell_type": "code",
   "execution_count": 109,
   "id": "7abc08ad",
   "metadata": {},
   "outputs": [],
   "source": [
    "content_resumes = df['content']\n",
    "\n",
    "for i in range(0,200):\n",
    "    content_resumes[i] = clean_text(content_resumes[i])"
   ]
  },
  {
   "cell_type": "code",
   "execution_count": 110,
   "id": "3ac0bff7",
   "metadata": {},
   "outputs": [
    {
     "data": {
      "text/plain": [
       "'govardhana k senior software engineer bengaluru karnataka karnataka email indeed: indeed.com/r/govardhana-k/ b2de315d95905b68 total experience five years six months cloud lending solutions inc four month salesforce developer oracle five years two month core java developer languages core java go lang oracle pl-sql programming sales force developer apex  designations & promotions willing relocate: anywhere work experience senior software engineer cloud lending solutions  bangalore karnataka  january two thousand and eighteen present present senior consultant oracle  bangalore karnataka  november two thousand and sixteen december two thousand and seventeen staff consultant oracle  bangalore karnataka  january two thousand and fourteen october two thousand and sixteen associate consultant oracle  bangalore karnataka  november two thousand and twelve december two thousand and thirteen education b.e computer science engineering adithya institute technology  tamil nadu september two thousand and eight june two thousand and twelve https://www.indeed.com/r/govardhana-k/b2de315d95905b68?isid=rex-download&ikw=download-top&co=in https://www.indeed.com/r/govardhana-k/b2de315d95905b68?isid=rex-download&ikw=download-top&co=in skills apex  less one year data structures three years flexcube five years oracle five years algorithms three years links https://www.linkedin.com/in/govardhana-k-61024944/ additional information technical proficiency: languages: core java go lang data structures & algorithms oracle pl-sql programming sales force apex tools: radtool jdeveloper netbeans eclipse sql developer pl/sql developer winscp putty web technologies: javascript xml html webservice operating systems: linux windows version control system svn & git-hub databases: oracle middleware: web logic oc4j product flexcube: oracle flexcube versions 10.x 11.x 12.x https://www.linkedin.com/in/govardhana-k-61024944/'"
      ]
     },
     "execution_count": 110,
     "metadata": {},
     "output_type": "execute_result"
    }
   ],
   "source": [
    "df['content'][0]"
   ]
  },
  {
   "cell_type": "code",
   "execution_count": 111,
   "id": "dd24eaed",
   "metadata": {},
   "outputs": [
    {
     "data": {
      "text/plain": [
       "\"harini komaravelli test analyst oracle hyderabad hyderabad telangana email indeed: indeed.com/r/harini- komaravelli/2659eee82e435d1b six yrs experience manual automation testing  work experience qa analyst oracle test analyst oracle hyderabad infosys ltd  hyderabad telangana  november two thousand and eleven february two thousand and sixteen hyderabad nov two thousand and eleven feb17 two thousand and sixteen worked tata consultancy services hyderabad feb twenty-four apr eleven two thousand and seventeen currently working test analyst oracle hyderabad qa analyst six years experience oracle education mca osmania university b.sc computer science osmania university skills functional testing blue prism qtp additional information area expertise: familiar agile methodologies  knowledge energy petroleum & health care domains  involved preparation test scenarios  preparing test data test cases  https://www.indeed.com/r/harini-komaravelli/2659eee82e435d1b?isid=rex-download&ikw=download-top&co=in https://www.indeed.com/r/harini-komaravelli/2659eee82e435d1b?isid=rex-download&ikw=download-top&co=in experienced development execution test cases effectively  experienced functional testing gui testing smoke testing regression testing integration testing experienced accessibility testing application ability understand user requirements functional design specifications  good knowledge sdlc stlc processes  deciding severity priority bugs  experience using microsoft test manager & oracle test manager test management tools  good experience testing windows based & web based applications  involved client interactions reviews issues clarifications  web services testing writing test scripts qtp testcomplete  creating object repositories function libraries qtp  enhanced qtp scripts using vb script  strong experience working blue prism tool worked different environments like windows application & web application technical skills: test automation tools: blue prism qtp 10.0 testcomplete test management tool: microsoft test manager oracle test manager & jira databases: oracle 10g sql server  operating systems: windows seven project 1: title: cadence client: baker hughes technologies: microsoft visual studio microsoft team foundation server client background: oilfield services company delivering focused efforts shale gas oilfield services provides services tools software drilling formation evaluation well completion production management seismic data collection interpretation  project description: aut application test next generation revolutionary robust easy use scalable well site data acquisition processing interpretation system client's drilling services deliver services meets cross divisional business requirements consistently  project 2: description: paragon supports entire care team one tool clinicians need help deliver best patient care designed physicians nurses pharmacists mid level providers first-hand understanding clinical workflow needs paragon clinical applications allow caregivers focus matters most; spending time caring patients since paragon fully-integrated across applications built around single patient database information entered anywhere system immediately available entire care team immediate access helps clinicians make better treatment decisions also helps promote patient safety paragon offers broad suite multidisciplinary clinical software solutions together anytime anywhere access complete patient record  responsibilities: performed smoke testing regression testing  involved generating executing test script using quick test pro & blue prism usability user interface testing  involved defect tracking reporting bugs using tfs participated frequent walk-through meetings internal quality assurance groups development groups  participated client calls clarifying doubts at&t sessions involved functional regression smoke testing validate application data changes done windows application certifying build status running scripts part smoke testing project 3: description: food & beverages r&a: easily manage business across multiple locations reducing cost complexity cloud-based point-of-sale pos solutions enable centralized enterprise management lower upfront costs smaller footprint  responsibilities: performed functional testing regression testing  involved generating executing test scripts using blue prism tool open script involved preparing bots using blue prism tool  accessibility testing web application involved defect tracking reporting bugs using jira webservices testing calling api's export data\""
      ]
     },
     "execution_count": 111,
     "metadata": {},
     "output_type": "execute_result"
    }
   ],
   "source": [
    "df['content'][1]"
   ]
  },
  {
   "cell_type": "code",
   "execution_count": null,
   "id": "09fd7cdb",
   "metadata": {},
   "outputs": [],
   "source": []
  }
 ],
 "metadata": {
  "kernelspec": {
   "display_name": "Python 3 (ipykernel)",
   "language": "python",
   "name": "python3"
  },
  "language_info": {
   "codemirror_mode": {
    "name": "ipython",
    "version": 3
   },
   "file_extension": ".py",
   "mimetype": "text/x-python",
   "name": "python",
   "nbconvert_exporter": "python",
   "pygments_lexer": "ipython3",
   "version": "3.10.9"
  }
 },
 "nbformat": 4,
 "nbformat_minor": 5
}
